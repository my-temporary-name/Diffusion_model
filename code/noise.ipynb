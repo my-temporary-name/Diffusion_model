{
 "cells": [
  {
   "cell_type": "code",
   "execution_count": null,
   "metadata": {},
   "outputs": [],
   "source": [
    "import numpy as np\n",
    "import matplotlib.pyplot as plt\n",
    "from PIL import Image\n",
    "\n",
    "# Load an image and convert it to grayscale\n",
    "image_path = '/home/ankit/Diffusion_model/images/kitty.jpeg'\n",
    "image = Image.open(image_path).convert('L')\n",
    "image = np.array(image, dtype=float)\n",
    "\n",
    "# Display the original and noisy images\n",
    "plt.figure(figsize=(12, 6))\n",
    "plt.subplot(1, 2, 1)\n",
    "plt.title('Original Image')\n",
    "plt.imshow(image, cmap='gray')\n",
    "plt.axis('off')\n",
    "\n",
    "# Loop to add Gaussian noise with increasing standard deviation\n",
    "for std_dev in range(50, 1050, 50):  # From 50 to 1000 in steps of 50\n",
    "    # Generate Gaussian noise\n",
    "    noise = np.random.normal(0, std_dev, image.shape)\n",
    "\n",
    "    # Add noise to the image\n",
    "    noisy_image = image + noise\n",
    "\n",
    "    # Clip values to remain within byte range\n",
    "    noisy_image = np.clip(noisy_image, 0, 255)\n",
    "\n",
    "    # Convert back to uint8\n",
    "    noisy_image = noisy_image.astype(np.uint8)\n",
    "\n",
    "    # Display the noisy image\n",
    "    plt.figure()\n",
    "    plt.imshow(noisy_image, cmap='gray')\n",
    "    plt.title(f'Image with Gaussian Noise, std_dev = {std_dev}')\n",
    "    plt.axis('off')\n",
    "    plt.show()\n"
   ]
  },
  {
   "cell_type": "code",
   "execution_count": null,
   "metadata": {},
   "outputs": [],
   "source": []
  }
 ],
 "metadata": {
  "kernelspec": {
   "display_name": "ankit3",
   "language": "python",
   "name": "python3"
  },
  "language_info": {
   "codemirror_mode": {
    "name": "ipython",
    "version": 3
   },
   "file_extension": ".py",
   "mimetype": "text/x-python",
   "name": "python",
   "nbconvert_exporter": "python",
   "pygments_lexer": "ipython3",
   "version": "3.11.9"
  }
 },
 "nbformat": 4,
 "nbformat_minor": 2
}
